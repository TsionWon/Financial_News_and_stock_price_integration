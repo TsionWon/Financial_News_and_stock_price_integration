{
 "cells": [
  {
   "cell_type": "code",
   "execution_count": 10,
   "id": "7402088f-a4d5-4d33-94b8-2ee33e24c31f",
   "metadata": {
    "tags": []
   },
   "outputs": [],
   "source": [
    "import pandas as pd \n",
    "import numpy as np\n",
    "import seaborn as sns\n",
    "import matplotlib.pyplot as plt\n",
    "import nltk\n",
    "from nltk.corpus import stopwords\n",
    "import datetime \n",
    "from wordcloud import WordCloud\n",
    "from nltk.sentiment import SentimentIntensityAnalyzer\n",
    "from sklearn.feature_extraction.text import TfidfVectorizer\n",
    "from sklearn.feature_extraction.text import CountVectorizer\n",
    "from sklearn.decomposition import LatentDirichletAllocation\n",
    "from textblob import TextBlob"
   ]
  },
  {
   "cell_type": "code",
   "execution_count": 3,
   "id": "f537ae3f-64ee-4db0-afc2-c4d277727d76",
   "metadata": {
    "tags": []
   },
   "outputs": [],
   "source": [
    "stock_data = pd.read_csv(r\"C:\\Users\\Tsi\\Desktop\\10academy\\.gitignore\\raw_analyst_ratings.csv\")"
   ]
  },
  {
   "cell_type": "code",
   "execution_count": 8,
   "id": "1dca0011-44c0-4453-ad22-411b5c09dbb5",
   "metadata": {
    "tags": []
   },
   "outputs": [
    {
     "name": "stdout",
     "output_type": "stream",
     "text": [
      "         Unnamed: 0                                           headline  \\\n",
      "0                 0            Stocks That Hit 52-Week Highs On Friday   \n",
      "1                 1         Stocks That Hit 52-Week Highs On Wednesday   \n",
      "2                 2                      71 Biggest Movers From Friday   \n",
      "3                 3       46 Stocks Moving In Friday's Mid-Day Session   \n",
      "4                 4  B of A Securities Maintains Neutral on Agilent...   \n",
      "...             ...                                                ...   \n",
      "1407323     1413844             Top Narrow Based Indexes For August 29   \n",
      "1407324     1413845  Recap: Wednesday's Top Percentage Gainers and ...   \n",
      "1407325     1413846  UPDATE: Oppenheimer Color on China Zenix Auto ...   \n",
      "1407326     1413847  Oppenheimer Initiates China Zenix At Outperfor...   \n",
      "1407327     1413848  China Zenix Auto International Opens For Tradi...   \n",
      "\n",
      "                                                       url          publisher  \\\n",
      "0        https://www.benzinga.com/news/20/06/16190091/s...  Benzinga Insights   \n",
      "1        https://www.benzinga.com/news/20/06/16170189/s...  Benzinga Insights   \n",
      "2        https://www.benzinga.com/news/20/05/16103463/7...         Lisa Levin   \n",
      "3        https://www.benzinga.com/news/20/05/16095921/4...         Lisa Levin   \n",
      "4        https://www.benzinga.com/news/20/05/16095304/b...         Vick Meyer   \n",
      "...                                                    ...                ...   \n",
      "1407323  https://www.benzinga.com/news/11/08/1888782/to...      Monica Gerson   \n",
      "1407324  https://www.benzinga.com/news/earnings/11/06/1...       Benjamin Lee   \n",
      "1407325  https://www.benzinga.com/analyst-ratings/analy...     BenzingaStaffL   \n",
      "1407326  https://www.benzinga.com/analyst-ratings/price...          Joe Young   \n",
      "1407327  https://www.benzinga.com/news/ipos/11/05/10789...      Allie Wickman   \n",
      "\n",
      "                              date stock  \n",
      "0        2020-06-05 10:30:54-04:00     A  \n",
      "1        2020-06-03 10:45:20-04:00     A  \n",
      "2        2020-05-26 04:30:07-04:00     A  \n",
      "3        2020-05-22 12:45:06-04:00     A  \n",
      "4        2020-05-22 11:38:59-04:00     A  \n",
      "...                            ...   ...  \n",
      "1407323        2011-08-29 00:00:00    ZX  \n",
      "1407324        2011-06-22 00:00:00    ZX  \n",
      "1407325        2011-06-21 00:00:00    ZX  \n",
      "1407326        2011-06-21 00:00:00    ZX  \n",
      "1407327        2011-05-12 00:00:00    ZX  \n",
      "\n",
      "[1407328 rows x 6 columns]\n"
     ]
    }
   ],
   "source": [
    "print(stock_data)"
   ]
  },
  {
   "cell_type": "code",
   "execution_count": 9,
   "id": "47a65bdb-efc3-4de8-b5da-5ee0f1429753",
   "metadata": {},
   "outputs": [
    {
     "data": {
      "text/html": [
       "<div>\n",
       "<style scoped>\n",
       "    .dataframe tbody tr th:only-of-type {\n",
       "        vertical-align: middle;\n",
       "    }\n",
       "\n",
       "    .dataframe tbody tr th {\n",
       "        vertical-align: top;\n",
       "    }\n",
       "\n",
       "    .dataframe thead th {\n",
       "        text-align: right;\n",
       "    }\n",
       "</style>\n",
       "<table border=\"1\" class=\"dataframe\">\n",
       "  <thead>\n",
       "    <tr style=\"text-align: right;\">\n",
       "      <th></th>\n",
       "      <th>Unnamed: 0</th>\n",
       "      <th>headline</th>\n",
       "      <th>url</th>\n",
       "      <th>publisher</th>\n",
       "      <th>date</th>\n",
       "      <th>stock</th>\n",
       "    </tr>\n",
       "  </thead>\n",
       "  <tbody>\n",
       "    <tr>\n",
       "      <th>0</th>\n",
       "      <td>0</td>\n",
       "      <td>Stocks That Hit 52-Week Highs On Friday</td>\n",
       "      <td>https://www.benzinga.com/news/20/06/16190091/s...</td>\n",
       "      <td>Benzinga Insights</td>\n",
       "      <td>2020-06-05 10:30:54-04:00</td>\n",
       "      <td>A</td>\n",
       "    </tr>\n",
       "    <tr>\n",
       "      <th>1</th>\n",
       "      <td>1</td>\n",
       "      <td>Stocks That Hit 52-Week Highs On Wednesday</td>\n",
       "      <td>https://www.benzinga.com/news/20/06/16170189/s...</td>\n",
       "      <td>Benzinga Insights</td>\n",
       "      <td>2020-06-03 10:45:20-04:00</td>\n",
       "      <td>A</td>\n",
       "    </tr>\n",
       "    <tr>\n",
       "      <th>2</th>\n",
       "      <td>2</td>\n",
       "      <td>71 Biggest Movers From Friday</td>\n",
       "      <td>https://www.benzinga.com/news/20/05/16103463/7...</td>\n",
       "      <td>Lisa Levin</td>\n",
       "      <td>2020-05-26 04:30:07-04:00</td>\n",
       "      <td>A</td>\n",
       "    </tr>\n",
       "    <tr>\n",
       "      <th>3</th>\n",
       "      <td>3</td>\n",
       "      <td>46 Stocks Moving In Friday's Mid-Day Session</td>\n",
       "      <td>https://www.benzinga.com/news/20/05/16095921/4...</td>\n",
       "      <td>Lisa Levin</td>\n",
       "      <td>2020-05-22 12:45:06-04:00</td>\n",
       "      <td>A</td>\n",
       "    </tr>\n",
       "    <tr>\n",
       "      <th>4</th>\n",
       "      <td>4</td>\n",
       "      <td>B of A Securities Maintains Neutral on Agilent...</td>\n",
       "      <td>https://www.benzinga.com/news/20/05/16095304/b...</td>\n",
       "      <td>Vick Meyer</td>\n",
       "      <td>2020-05-22 11:38:59-04:00</td>\n",
       "      <td>A</td>\n",
       "    </tr>\n",
       "  </tbody>\n",
       "</table>\n",
       "</div>"
      ],
      "text/plain": [
       "   Unnamed: 0                                           headline  \\\n",
       "0           0            Stocks That Hit 52-Week Highs On Friday   \n",
       "1           1         Stocks That Hit 52-Week Highs On Wednesday   \n",
       "2           2                      71 Biggest Movers From Friday   \n",
       "3           3       46 Stocks Moving In Friday's Mid-Day Session   \n",
       "4           4  B of A Securities Maintains Neutral on Agilent...   \n",
       "\n",
       "                                                 url          publisher  \\\n",
       "0  https://www.benzinga.com/news/20/06/16190091/s...  Benzinga Insights   \n",
       "1  https://www.benzinga.com/news/20/06/16170189/s...  Benzinga Insights   \n",
       "2  https://www.benzinga.com/news/20/05/16103463/7...         Lisa Levin   \n",
       "3  https://www.benzinga.com/news/20/05/16095921/4...         Lisa Levin   \n",
       "4  https://www.benzinga.com/news/20/05/16095304/b...         Vick Meyer   \n",
       "\n",
       "                        date stock  \n",
       "0  2020-06-05 10:30:54-04:00     A  \n",
       "1  2020-06-03 10:45:20-04:00     A  \n",
       "2  2020-05-26 04:30:07-04:00     A  \n",
       "3  2020-05-22 12:45:06-04:00     A  \n",
       "4  2020-05-22 11:38:59-04:00     A  "
      ]
     },
     "execution_count": 9,
     "metadata": {},
     "output_type": "execute_result"
    }
   ],
   "source": [
    "stock_data.head()"
   ]
  },
  {
   "cell_type": "code",
   "execution_count": 28,
   "id": "2b351f01-1f08-4148-98d2-1bdd8229b860",
   "metadata": {
    "tags": []
   },
   "outputs": [
    {
     "data": {
      "text/html": [
       "<div>\n",
       "<style scoped>\n",
       "    .dataframe tbody tr th:only-of-type {\n",
       "        vertical-align: middle;\n",
       "    }\n",
       "\n",
       "    .dataframe tbody tr th {\n",
       "        vertical-align: top;\n",
       "    }\n",
       "\n",
       "    .dataframe thead th {\n",
       "        text-align: right;\n",
       "    }\n",
       "</style>\n",
       "<table border=\"1\" class=\"dataframe\">\n",
       "  <thead>\n",
       "    <tr style=\"text-align: right;\">\n",
       "      <th></th>\n",
       "      <th>Unnamed: 0</th>\n",
       "      <th>headline</th>\n",
       "      <th>url</th>\n",
       "      <th>publisher</th>\n",
       "      <th>date</th>\n",
       "      <th>stock</th>\n",
       "      <th>headline_length</th>\n",
       "      <th>year</th>\n",
       "      <th>publication_date</th>\n",
       "      <th>publication_day</th>\n",
       "      <th>publication_time</th>\n",
       "    </tr>\n",
       "  </thead>\n",
       "  <tbody>\n",
       "    <tr>\n",
       "      <th>1407323</th>\n",
       "      <td>1413844</td>\n",
       "      <td>Top Narrow Based Indexes For August 29</td>\n",
       "      <td>https://www.benzinga.com/news/11/08/1888782/to...</td>\n",
       "      <td>Monica Gerson</td>\n",
       "      <td>NaT</td>\n",
       "      <td>ZX</td>\n",
       "      <td>38</td>\n",
       "      <td>NaN</td>\n",
       "      <td>NaT</td>\n",
       "      <td>NaN</td>\n",
       "      <td>NaT</td>\n",
       "    </tr>\n",
       "    <tr>\n",
       "      <th>1407324</th>\n",
       "      <td>1413845</td>\n",
       "      <td>Recap: Wednesday's Top Percentage Gainers and ...</td>\n",
       "      <td>https://www.benzinga.com/news/earnings/11/06/1...</td>\n",
       "      <td>Benjamin Lee</td>\n",
       "      <td>NaT</td>\n",
       "      <td>ZX</td>\n",
       "      <td>52</td>\n",
       "      <td>NaN</td>\n",
       "      <td>NaT</td>\n",
       "      <td>NaN</td>\n",
       "      <td>NaT</td>\n",
       "    </tr>\n",
       "    <tr>\n",
       "      <th>1407325</th>\n",
       "      <td>1413846</td>\n",
       "      <td>UPDATE: Oppenheimer Color on China Zenix Auto ...</td>\n",
       "      <td>https://www.benzinga.com/analyst-ratings/analy...</td>\n",
       "      <td>BenzingaStaffL</td>\n",
       "      <td>NaT</td>\n",
       "      <td>ZX</td>\n",
       "      <td>56</td>\n",
       "      <td>NaN</td>\n",
       "      <td>NaT</td>\n",
       "      <td>NaN</td>\n",
       "      <td>NaT</td>\n",
       "    </tr>\n",
       "    <tr>\n",
       "      <th>1407326</th>\n",
       "      <td>1413847</td>\n",
       "      <td>Oppenheimer Initiates China Zenix At Outperfor...</td>\n",
       "      <td>https://www.benzinga.com/analyst-ratings/price...</td>\n",
       "      <td>Joe Young</td>\n",
       "      <td>NaT</td>\n",
       "      <td>ZX</td>\n",
       "      <td>54</td>\n",
       "      <td>NaN</td>\n",
       "      <td>NaT</td>\n",
       "      <td>NaN</td>\n",
       "      <td>NaT</td>\n",
       "    </tr>\n",
       "    <tr>\n",
       "      <th>1407327</th>\n",
       "      <td>1413848</td>\n",
       "      <td>China Zenix Auto International Opens For Tradi...</td>\n",
       "      <td>https://www.benzinga.com/news/ipos/11/05/10789...</td>\n",
       "      <td>Allie Wickman</td>\n",
       "      <td>NaT</td>\n",
       "      <td>ZX</td>\n",
       "      <td>81</td>\n",
       "      <td>NaN</td>\n",
       "      <td>NaT</td>\n",
       "      <td>NaN</td>\n",
       "      <td>NaT</td>\n",
       "    </tr>\n",
       "  </tbody>\n",
       "</table>\n",
       "</div>"
      ],
      "text/plain": [
       "         Unnamed: 0                                           headline  \\\n",
       "1407323     1413844             Top Narrow Based Indexes For August 29   \n",
       "1407324     1413845  Recap: Wednesday's Top Percentage Gainers and ...   \n",
       "1407325     1413846  UPDATE: Oppenheimer Color on China Zenix Auto ...   \n",
       "1407326     1413847  Oppenheimer Initiates China Zenix At Outperfor...   \n",
       "1407327     1413848  China Zenix Auto International Opens For Tradi...   \n",
       "\n",
       "                                                       url       publisher  \\\n",
       "1407323  https://www.benzinga.com/news/11/08/1888782/to...   Monica Gerson   \n",
       "1407324  https://www.benzinga.com/news/earnings/11/06/1...    Benjamin Lee   \n",
       "1407325  https://www.benzinga.com/analyst-ratings/analy...  BenzingaStaffL   \n",
       "1407326  https://www.benzinga.com/analyst-ratings/price...       Joe Young   \n",
       "1407327  https://www.benzinga.com/news/ipos/11/05/10789...   Allie Wickman   \n",
       "\n",
       "        date stock  headline_length  year publication_date publication_day  \\\n",
       "1407323  NaT    ZX               38   NaN              NaT             NaN   \n",
       "1407324  NaT    ZX               52   NaN              NaT             NaN   \n",
       "1407325  NaT    ZX               56   NaN              NaT             NaN   \n",
       "1407326  NaT    ZX               54   NaN              NaT             NaN   \n",
       "1407327  NaT    ZX               81   NaN              NaT             NaN   \n",
       "\n",
       "        publication_time  \n",
       "1407323              NaT  \n",
       "1407324              NaT  \n",
       "1407325              NaT  \n",
       "1407326              NaT  \n",
       "1407327              NaT  "
      ]
     },
     "execution_count": 28,
     "metadata": {},
     "output_type": "execute_result"
    }
   ],
   "source": [
    "stock_data.tail()"
   ]
  },
  {
   "cell_type": "code",
   "execution_count": 10,
   "id": "7bf5122c-031c-431d-82ce-7a16d97fa9cd",
   "metadata": {},
   "outputs": [
    {
     "data": {
      "text/plain": [
       "(1407328, 6)"
      ]
     },
     "execution_count": 10,
     "metadata": {},
     "output_type": "execute_result"
    }
   ],
   "source": [
    "stock_data.shape"
   ]
  },
  {
   "cell_type": "code",
   "execution_count": 32,
   "id": "d5f9787b-870e-4805-8e37-6d934c462d31",
   "metadata": {
    "tags": []
   },
   "outputs": [],
   "source": [
    "symbols = stock_data[\"stock\"].unique()"
   ]
  },
  {
   "cell_type": "code",
   "execution_count": 33,
   "id": "5e1d1f15-b6e2-4906-890b-b238fda6b08e",
   "metadata": {
    "tags": []
   },
   "outputs": [
    {
     "data": {
      "text/plain": [
       "6204"
      ]
     },
     "execution_count": 33,
     "metadata": {},
     "output_type": "execute_result"
    }
   ],
   "source": [
    "len(symbols)"
   ]
  },
  {
   "cell_type": "code",
   "execution_count": 34,
   "id": "150a4103-8885-40fa-8511-e24f5a3b3e43",
   "metadata": {
    "tags": []
   },
   "outputs": [
    {
     "data": {
      "text/plain": [
       "array(['A', 'AA', 'AAC', 'AADR', 'AAL', 'AAMC', 'AAME', 'AAN', 'AAOI',\n",
       "       'AAON', 'AAP', 'AAPL', 'AAU', 'AAV', 'AAVL'], dtype=object)"
      ]
     },
     "execution_count": 34,
     "metadata": {},
     "output_type": "execute_result"
    }
   ],
   "source": [
    "symbols[:15]"
   ]
  },
  {
   "cell_type": "markdown",
   "id": "97928c8f-8108-460d-a2f4-875ef2b52130",
   "metadata": {},
   "source": [
    "<h1>Descriptive Statistics</h1>"
   ]
  },
  {
   "cell_type": "code",
   "execution_count": 11,
   "id": "34fddfbd-16d6-4f6f-8b44-0870db43018a",
   "metadata": {
    "tags": []
   },
   "outputs": [
    {
     "name": "stdout",
     "output_type": "stream",
     "text": [
      "Headline Length Statistics:\n",
      "count    1.407328e+06\n",
      "mean     7.312051e+01\n",
      "std      4.073531e+01\n",
      "min      3.000000e+00\n",
      "25%      4.700000e+01\n",
      "50%      6.400000e+01\n",
      "75%      8.700000e+01\n",
      "max      5.120000e+02\n",
      "Name: headline_length, dtype: float64\n"
     ]
    }
   ],
   "source": [
    "stock_data['headline_length'] = stock_data['headline'].apply(len)\n",
    "headline_stats = stock_data['headline_length'].describe()\n",
    "print('Headline Length Statistics:')\n",
    "print(headline_stats)"
   ]
  },
  {
   "cell_type": "code",
   "execution_count": 14,
   "id": "575f9bd2-469b-4db8-b152-2228ce957953",
   "metadata": {
    "tags": []
   },
   "outputs": [],
   "source": [
    "stock_data['date'] = pd.to_datetime(stock_data['date'], errors='coerce')\n",
    "stock_data['year'] = stock_data['date'].dt.year"
   ]
  },
  {
   "cell_type": "code",
   "execution_count": 16,
   "id": "a6831c6f-f953-411d-814a-38bfdd5074f6",
   "metadata": {
    "tags": []
   },
   "outputs": [
    {
     "data": {
      "image/png": "[encoded data removed]",
      "text/plain": [
       "<Figure size 1000x600 with 1 Axes>"
      ]
     },
     "metadata": {},
     "output_type": "display_data"
    }
   ],
   "source": [
    "plt.figure(figsize=(10, 6))\n",
    "stock_data.groupby('year').size().plot(kind='line', marker='o')\n",
    "plt.title('Publication Frequency Over Time')\n",
    "plt.xlabel('Year')\n",
    "plt.ylabel('Number of Articles')\n",
    "plt.grid(True)\n",
    "plt.show()"
   ]
  },
  {
   "cell_type": "markdown",
   "id": "a92cf771-074f-4429-b195-5abe8c3f71cf",
   "metadata": {},
   "source": [
    "<h1>Time Series Analysis:</h1>"
   ]
  },
  {
   "cell_type": "code",
   "execution_count": 18,
   "id": "44314500-6821-457b-8799-214845100f7a",
   "metadata": {
    "tags": []
   },
   "outputs": [],
   "source": [
    "stock_data['date'] = pd.to_datetime(stock_data['date'], errors='coerce')\n",
    "stock_data['year'] = stock_data['date'].dt.year"
   ]
  },
  {
   "cell_type": "code",
   "execution_count": 20,
   "id": "02d2d0bd-f2ce-41b8-8d96-d8eea9c120f1",
   "metadata": {
    "tags": []
   },
   "outputs": [],
   "source": [
    "## Publication date trends\n",
    "stock_data['publication_date'] = pd.to_datetime(stock_data['date'])\n",
    "stock_data['publication_day'] = stock_data['publication_date'].dt.day_name()\n",
    "publication_trends = stock_data.groupby('publication_day').size()"
   ]
  },
  {
   "cell_type": "code",
   "execution_count": 21,
   "id": "b3d373c3-7cc6-4973-96f2-f61ca89d39b0",
   "metadata": {
    "tags": []
   },
   "outputs": [
    {
     "data": {
      "image/png": "[encoded data removed]",
      "text/plain": [
       "<Figure size 640x480 with 1 Axes>"
      ]
     },
     "metadata": {},
     "output_type": "display_data"
    }
   ],
   "source": [
    "# Time Series Analysis\n",
    "## Publication frequency over time\n",
    "stock_data['publication_date'] = pd.to_datetime(stock_data['publication_date'])\n",
    "stock_data['publication_time'] = stock_data['publication_date'].dt.time\n",
    "stock_data.set_index('publication_date').resample('D').size().plot()\n",
    "plt.title('Article Publication Frequency Over Time')\n",
    "plt.xlabel('Date')\n",
    "plt.ylabel('Number of Articles')\n",
    "plt.show()"
   ]
  },
  {
   "cell_type": "markdown",
   "id": "0883ba05-04f4-47b6-bf38-21a3c82e8fe5",
   "metadata": {},
   "source": [
    "<h1>Publisher Analysis:</h1>\n"
   ]
  },
  {
   "cell_type": "code",
   "execution_count": 26,
   "id": "d183047f-582e-45d0-aef1-1674a0f16a9e",
   "metadata": {
    "tags": []
   },
   "outputs": [
    {
     "name": "stdout",
     "output_type": "stream",
     "text": [
      "publisher\n",
      "Paul Quintaro                      228373\n",
      "Lisa Levin                         186979\n",
      "Benzinga Newsdesk                  150484\n",
      "Charles Gross                       96732\n",
      "Monica Gerson                       82380\n",
      "                                    ...  \n",
      "Shazir Mucklai - Imperium Group         1\n",
      "Laura Jennings                          1\n",
      "Eric Martin                             1\n",
      "Jose Rodrigo                            1\n",
      "Jeremie Capron                          1\n",
      "Name: count, Length: 1034, dtype: int64\n"
     ]
    }
   ],
   "source": [
    "#all publishers\n",
    "total_articles_per_publisher = stock_data['publisher'].value_counts()\n",
    "print(total_articles_per_publisher)"
   ]
  },
  {
   "cell_type": "code",
   "execution_count": 24,
   "id": "bec84205-d9a4-4205-a7ca-ef10b046a9b1",
   "metadata": {
    "tags": []
   },
   "outputs": [
    {
     "name": "stdout",
     "output_type": "stream",
     "text": [
      "\n",
      "Most Active Publishers:\n",
      "             publisher  article_count\n",
      "686      Paul Quintaro         228373\n",
      "532         Lisa Levin         186979\n",
      "96   Benzinga Newsdesk         150484\n",
      "169      Charles Gross          96732\n",
      "622      Monica Gerson          82380\n"
     ]
    }
   ],
   "source": [
    "##top publishers\n",
    "articles_per_publisher = stock_data.groupby('publisher').size().reset_index(name='article_count')\n",
    "most_active_publishers = articles_per_publisher.sort_values(by='article_count', ascending=False).head(5)\n",
    "print(\"\\nMost Active Publishers:\")\n",
    "print(most_active_publishers)"
   ]
  },
  {
   "cell_type": "code",
   "execution_count": 27,
   "id": "44ebf5d0-146b-497d-a772-41ac77a85085",
   "metadata": {
    "tags": []
   },
   "outputs": [
    {
     "data": {
      "image/png": "[encoded data removed]",
      "text/plain": [
       "<Figure size 1000x600 with 1 Axes>"
      ]
     },
     "metadata": {},
     "output_type": "display_data"
    }
   ],
   "source": [
    "## Most active publishers\n",
    "articles_per_publisher = stock_data['publisher'].value_counts()\n",
    "\n",
    "# Plotting the bar chart\n",
    "plt.figure(figsize=(10, 6))\n",
    "articles_per_publisher.head().plot(kind='bar', color='skyblue')\n",
    "plt.title('Most Active Publishers')\n",
    "plt.xlabel('Publisher')\n",
    "plt.ylabel('Number of Articles')\n",
    "plt.xticks(rotation=45)\n",
    "plt.grid(axis='y', linestyle='--', alpha=0.7)\n",
    "plt.tight_layout()\n",
    "plt.show()"
   ]
  },
  {
   "cell_type": "markdown",
   "id": "f196dbb3-f8e5-432c-82e3-39b7fde7916b",
   "metadata": {},
   "source": [
    "<h1>Text Analysis(Sentiment analysis & Topic Modeling):</h1>\n"
   ]
  },
  {
   "cell_type": "code",
   "execution_count": 38,
   "id": "73fbfc6a-032d-408f-adad-daae8d458338",
   "metadata": {
    "tags": []
   },
   "outputs": [
    {
     "name": "stderr",
     "output_type": "stream",
     "text": [
      "[nltk_data] Downloading package punkt to\n",
      "[nltk_data]     C:\\Users\\Tsi\\AppData\\Roaming\\nltk_data...\n",
      "[nltk_data]   Unzipping tokenizers\\punkt.zip.\n",
      "[nltk_data] Downloading package stopwords to\n",
      "[nltk_data]     C:\\Users\\Tsi\\AppData\\Roaming\\nltk_data...\n",
      "[nltk_data]   Unzipping corpora\\stopwords.zip.\n"
     ]
    },
    {
     "data": {
      "text/plain": [
       "True"
      ]
     },
     "execution_count": 38,
     "metadata": {},
     "output_type": "execute_result"
    }
   ],
   "source": [
    "# Ensure you have the necessary NLP libraries and datasets\n",
    "nltk.download('punkt')\n",
    "nltk.download('stopwords')"
   ]
  },
  {
   "cell_type": "code",
   "execution_count": 6,
   "id": "e1f9ec00-0000-492c-a227-c1e7931b84fd",
   "metadata": {
    "tags": []
   },
   "outputs": [
    {
     "name": "stderr",
     "output_type": "stream",
     "text": [
      "[nltk_data] Downloading package vader_lexicon to\n",
      "[nltk_data]     C:\\Users\\Tsi\\AppData\\Roaming\\nltk_data...\n",
      "[nltk_data]   Package vader_lexicon is already up-to-date!\n"
     ]
    }
   ],
   "source": [
    "nltk.download('vader_lexicon')\n",
    "sia = SentimentIntensityAnalyzer()"
   ]
  },
  {
   "cell_type": "code",
   "execution_count": 7,
   "id": "8581e83a-cffd-4088-989e-6dad972596c7",
   "metadata": {
    "tags": []
   },
   "outputs": [],
   "source": [
    "stock_data['sentiment'] = stock_data['headline'].apply(lambda x: sia.polarity_scores(x)['compound'])"
   ]
  },
  {
   "cell_type": "code",
   "execution_count": 8,
   "id": "59af46cc-f288-4637-b332-8aa9b6721538",
   "metadata": {},
   "outputs": [],
   "source": [
    "stock_data['sentiment_type'] = stock_data['sentiment'].apply(lambda x: 'positive' if x > 0 else ('negative' if x < 0 else 'neutral'))\n"
   ]
  },
  {
   "cell_type": "code",
   "execution_count": 14,
   "id": "8d3d3498-0dbd-4a05-a625-678733a38385",
   "metadata": {},
   "outputs": [],
   "source": [
    "count_vect = CountVectorizer(max_features=1000, min_df=2, stop_words='english')\n",
    "doc_term_matrix = count_vect.fit_transform(stock_data['headline'])"
   ]
  },
  {
   "cell_type": "code",
   "execution_count": null,
   "id": "9df6a108-9bd4-4136-a0b1-c4e47daab313",
   "metadata": {},
   "outputs": [],
   "source": [
    "lda = LatentDirichletAllocation(n_components=5, random_state=42)\n",
    "lda.fit(doc_term_matrix)"
   ]
  },
  {
   "cell_type": "code",
   "execution_count": null,
   "id": "9e448b6d-a7d7-484d-9184-a3ccdef5ec2c",
   "metadata": {},
   "outputs": [],
   "source": [
    "words = count_vect.get_feature_names_out()\n",
    "for i, topic in enumerate(lda.components_):\n",
    "    print(f\"Top words #{i}:\")\n",
    "    print([words[i] for i in topic.argsort()[-10:]])\n",
    "    print(\"\\n\")"
   ]
  },
  {
   "cell_type": "code",
   "execution_count": null,
   "id": "838a9439-8bd9-425e-8b3b-dca71473fd06",
   "metadata": {},
   "outputs": [],
   "source": []
  }
 ],
 "metadata": {
  "kernelspec": {
   "display_name": "Python 3 (ipykernel)",
   "language": "python",
   "name": "python3"
  },
  "language_info": {
   "codemirror_mode": {
    "name": "ipython",
    "version": 3
   },
   "file_extension": ".py",
   "mimetype": "text/x-python",
   "name": "python",
   "nbconvert_exporter": "python",
   "pygments_lexer": "ipython3",
   "version": "3.11.5"
  }
 },
 "nbformat": 4,
 "nbformat_minor": 5
}
