{
 "cells": [
  {
   "cell_type": "code",
   "execution_count": null,
   "id": "44d2559f-3c97-4299-8fd1-4b05640f3311",
   "metadata": {},
   "outputs": [],
   "source": [
    "import pandas as pd \n",
    "import numpy as np\n",
    "import seaborn as sns\n",
    "import matplotlib.pyplot as plt\n",
    "import nltk\n",
    "from nltk.corpus import stopwords\n",
    "from datetime import datetime \n",
    "import yfinance as yf\n",
    "import plotly.express as px"
   ]
  },
  {
   "cell_type": "code",
   "execution_count": null,
   "id": "4a3723fc-ec65-4567-b5a3-9a0d8d6058a7",
   "metadata": {},
   "outputs": [],
   "source": [
    "## have an issu of installing TA-Lib\n"
   ]
  },
  {
   "cell_type": "code",
   "execution_count": null,
   "id": "d58e6b3c-96ce-411a-b770-85542e49fb5a",
   "metadata": {},
   "outputs": [],
   "source": []
  }
 ],
 "metadata": {
  "kernelspec": {
   "display_name": "Python 3 (ipykernel)",
   "language": "python",
   "name": "python3"
  },
  "language_info": {
   "codemirror_mode": {
    "name": "ipython",
    "version": 3
   },
   "file_extension": ".py",
   "mimetype": "text/x-python",
   "name": "python",
   "nbconvert_exporter": "python",
   "pygments_lexer": "ipython3",
   "version": "3.11.5"
  }
 },
 "nbformat": 4,
 "nbformat_minor": 5
}
